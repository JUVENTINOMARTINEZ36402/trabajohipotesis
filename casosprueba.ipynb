{
 "cells": [
  {
   "cell_type": "markdown",
   "metadata": {},
   "source": [
    "#  Planteamiento de las Hipótesis:\n",
    "# Hipótesis 1:\n",
    "  H₀: La estatura media de las estudiantes de 7° es 175 cm.\n",
    "  H₁: La estatura media de las estudiantes de 7° es diferente de 175 cm.\n",
    "# Hipótesis 2:\n",
    "  H₀: La desviación estándar de la estatura de las estudiantes es 10 cm. \n",
    " H₁: La desviación estándar de la estatura de las estudiantes es menor o diferente de 10 cm.\n",
    "# Hipótesis 3:\n",
    "  H₀: La estatura promedio de las mujeres es igual a la de los hombres.\n",
    "  H₁: La estatura promedio de las mujeres es diferente a la de los hombres.\n",
    "\n"
   ]
  },
  {
   "cell_type": "markdown",
   "metadata": {},
   "source": [
    "# Datos Proporcionados:\n",
    "Estaturas:\n",
    "\n",
    "Fer: 180 cm (M)\n",
    "Ale: 170 cm (M)\n",
    "Alex: 170 cm (M)\n",
    "Gael: 168 cm (M)\n",
    "Erick: 165 cm (M)\n",
    "Angie: 168 cm (F)\n",
    "Karla: 170 cm (F)\n",
    "Ángel: 175 cm (M)\n",
    "Derik: 174 cm (M)\n",
    "José: 175 cm (M)\n",
    "Leo: 171 cm (M)\n",
    "Lalo: 172 cm (M)\n",
    "Antonio: 170 cm (M)\n",
    "Luis: 177 cm (M)\n",
    "Cristian: 170 cm (M)\n",
    "Juve: 176 cm (M)\n",
    "Esto nos da un total de 16 personas, 2 mujeres y 14 hombres."
   ]
  },
  {
   "cell_type": "code",
   "execution_count": 3,
   "metadata": {},
   "outputs": [
    {
     "name": "stdout",
     "output_type": "stream",
     "text": [
      "Hipótesis 1 (Media diferente a 175 cm): t=-3.135618731941885, p-value=0.006803524240899209\n",
      "Hipótesis 2 (Desviación estándar <= 10 cm): chi²=2.289375, p-value=0.9999279552167403\n",
      "Hipótesis 3 (Comparación hombres y mujeres): t=2.2956788343172447, p-value=0.08081023413779945\n"
     ]
    }
   ],
   "source": [
    "import numpy as np\n",
    "from scipy import stats\n",
    "\n",
    "estaturas_hombres = np.array([180, 170, 170, 168, 165, 175, 174, 175, 171, 172, 170, 177, 170, 176])\n",
    "estaturas_mujeres = np.array([168, 170])\n",
    "\n",
    "estaturas_todas = np.concatenate((estaturas_hombres, estaturas_mujeres))\n",
    "#1\n",
    "media_esperada = 175\n",
    "t_statistic_1, p_value_1 = stats.ttest_1samp(estaturas_todas, media_esperada)\n",
    "\n",
    "\n",
    "#2\n",
    "desviacion_esperada = 10\n",
    "n_todas = len(estaturas_todas)\n",
    "varianza_muestral = np.var(estaturas_todas, ddof=1)\n",
    "chi_squared_statistic = (n_todas - 1) * varianza_muestral / desviacion_esperada**2\n",
    "p_value_2 = stats.chi2.sf(chi_squared_statistic, df=n_todas - 1)\n",
    "\n",
    "#3\n",
    "t_statistic_3, p_value_3 = stats.ttest_ind(estaturas_hombres, estaturas_mujeres, equal_var=False)\n",
    "\n",
    "print(f\"Hipótesis 1 (Media diferente a 175 cm): t={t_statistic_1}, p-value={p_value_1}\")\n",
    "print(f\"Hipótesis 2 (Desviación estándar <= 10 cm): chi²={chi_squared_statistic}, p-value={p_value_2}\")\n",
    "print(f\"Hipótesis 3 (Comparación hombres y mujeres): t={t_statistic_3}, p-value={p_value_3}\")\n"
   ]
  },
  {
   "cell_type": "code",
   "execution_count": 4,
   "metadata": {},
   "outputs": [
    {
     "name": "stdout",
     "output_type": "stream",
     "text": [
      "Rechazamos H0 para la Hipótesis 1: La estatura media de todos los estudiantes es diferente de 175 cm.\n",
      "Rechazamos H0 para la Hipótesis 2: La desviación estándar de la estatura de todos los estudiantes es menor o igual a 10 cm.\n",
      "No rechazamos H0 para la Hipótesis 3: No hay suficiente evidencia para afirmar que la estatura promedio de hombres y mujeres es diferente.\n"
     ]
    }
   ],
   "source": [
    "alpha = 0.05\n",
    "lower_bound = alpha / 2   \n",
    "upper_bound = 1 - (alpha / 2)  \n",
    "\n",
    "if p_value_1 < lower_bound or p_value_1 > upper_bound:\n",
    "    print(\"Rechazamos H0 para la Hipótesis 1: La estatura media de todos los estudiantes es diferente de 175 cm.\")\n",
    "else:\n",
    "    print(\"No rechazamos H0 para la Hipótesis 1: No hay suficiente evidencia para afirmar que la estatura media de todos los estudiantes es diferente de 175 cm.\")\n",
    "\n",
    "if p_value_2 < lower_bound or p_value_2 > upper_bound:\n",
    "    print(\"Rechazamos H0 para la Hipótesis 2: La desviación estándar de la estatura de todos los estudiantes es menor o igual a 10 cm.\")\n",
    "else:\n",
    "    print(\"No rechazamos H0 para la Hipótesis 2: No hay suficiente evidencia para afirmar que la desviación estándar de la estatura de todos los estudiantes es menor o igual a 10 cm.\")\n",
    "\n",
    "if p_value_3 < lower_bound or p_value_3 > upper_bound:\n",
    "    print(\"Rechazamos H0 para la Hipótesis 3: La estatura promedio de hombres y mujeres es diferente.\")\n",
    "else:\n",
    "    print(\"No rechazamos H0 para la Hipótesis 3: No hay suficiente evidencia para afirmar que la estatura promedio de hombres y mujeres es diferente.\")\n"
   ]
  }
 ],
 "metadata": {
  "kernelspec": {
   "display_name": "Python 3",
   "language": "python",
   "name": "python3"
  },
  "language_info": {
   "codemirror_mode": {
    "name": "ipython",
    "version": 3
   },
   "file_extension": ".py",
   "mimetype": "text/x-python",
   "name": "python",
   "nbconvert_exporter": "python",
   "pygments_lexer": "ipython3",
   "version": "3.12.6"
  }
 },
 "nbformat": 4,
 "nbformat_minor": 2
}
